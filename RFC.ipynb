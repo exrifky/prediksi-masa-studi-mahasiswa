{
 "cells": [
  {
   "cell_type": "markdown",
   "id": "e4fa2d05",
   "metadata": {},
   "source": [
    "# Kode Program"
   ]
  },
  {
   "cell_type": "code",
   "execution_count": 128,
   "id": "d36b1769",
   "metadata": {},
   "outputs": [],
   "source": [
    "## for data\n",
    "import pandas as pd\n",
    "import numpy as np\n",
    "## for plotting\n",
    "import matplotlib.pyplot as plt\n",
    "import seaborn as sns\n",
    "## for machine learning\n",
    "from sklearn import model_selection, preprocessing, feature_selection, ensemble, linear_model, metrics, decomposition\n",
    "\n",
    "# Import basic libraries\n",
    "# evaluate a logistic regression model using k-fold cross-validation\n",
    "from numpy import mean\n",
    "from numpy import std\n",
    "import os\n",
    "import pandas as pd \n",
    "import numpy as np\n",
    "import seaborn as sns\n",
    "from string import ascii_uppercase\n",
    "from pandas import DataFrame\n",
    "import matplotlib.pyplot as plt        \n",
    "%matplotlib inline\n",
    "from sklearn.model_selection import KFold\n",
    "import sklearn.preprocessing as skp\n",
    "import sklearn.model_selection as skm\n",
    "import os\n",
    "#import classification modules\n",
    "from sklearn.neighbors import KNeighborsClassifier\n",
    "from sklearn.naive_bayes import GaussianNB\n",
    "from sklearn.linear_model import LogisticRegression\n",
    "from sklearn.neural_network import MLPClassifier\n",
    "from sklearn.svm import SVC\n",
    "from sklearn.tree import DecisionTreeClassifier\n",
    "from sklearn.ensemble import RandomForestClassifier\n",
    "from sklearn.ensemble import GradientBoostingClassifier\n",
    "from sklearn.ensemble import AdaBoostClassifier\n",
    "# Selection\n",
    "from sklearn.model_selection import GridSearchCV as gs\n",
    "from sklearn.model_selection import RandomizedSearchCV as rs\n",
    "from sklearn.model_selection import StratifiedKFold\n",
    "from sklearn.feature_selection import RFECV\n",
    "#import decision tree plotting libraries\n",
    "# Metrics\n",
    "from sklearn.metrics import accuracy_score, confusion_matrix,precision_score, recall_score, roc_auc_score,roc_curve, auc, f1_score \n",
    "from sklearn.model_selection import cross_val_score\n",
    "\n",
    "\n",
    "from sklearn.preprocessing import StandardScaler \n",
    "from sklearn.model_selection import train_test_split\n",
    "from sklearn.preprocessing import MinMaxScaler\n",
    "from sklearn.preprocessing import RobustScaler\n",
    "from sklearn.preprocessing import QuantileTransformer\n",
    "\n",
    "import pyswarms as ps"
   ]
  },
  {
   "cell_type": "markdown",
   "id": "ee581a9f",
   "metadata": {},
   "source": [
    "## Preprocessing Data "
   ]
  },
  {
   "cell_type": "code",
   "execution_count": 129,
   "id": "bf59b553",
   "metadata": {},
   "outputs": [],
   "source": [
    "data = pd.read_csv('fix 4.csv')"
   ]
  },
  {
   "cell_type": "code",
   "execution_count": 130,
   "id": "492ddb6f",
   "metadata": {},
   "outputs": [
    {
     "data": {
      "text/plain": [
       "(97, 24)"
      ]
     },
     "execution_count": 130,
     "metadata": {},
     "output_type": "execute_result"
    }
   ],
   "source": [
    "data.shape"
   ]
  },
  {
   "cell_type": "code",
   "execution_count": 131,
   "id": "5f803b8f",
   "metadata": {},
   "outputs": [
    {
     "data": {
      "text/html": [
       "<div>\n",
       "<style scoped>\n",
       "    .dataframe tbody tr th:only-of-type {\n",
       "        vertical-align: middle;\n",
       "    }\n",
       "\n",
       "    .dataframe tbody tr th {\n",
       "        vertical-align: top;\n",
       "    }\n",
       "\n",
       "    .dataframe thead th {\n",
       "        text-align: right;\n",
       "    }\n",
       "</style>\n",
       "<table border=\"1\" class=\"dataframe\">\n",
       "  <thead>\n",
       "    <tr style=\"text-align: right;\">\n",
       "      <th></th>\n",
       "      <th>Jenis_Beasiswa</th>\n",
       "      <th>Bidang_Riset</th>\n",
       "      <th>Matematika_Komputasi</th>\n",
       "      <th>Jaringan /  Sistem Operasi</th>\n",
       "      <th>Basis_Data</th>\n",
       "      <th>Algoritma_dan_Pemrograman</th>\n",
       "      <th>Nilai_Akhir_Tes_Bidang</th>\n",
       "      <th>Nilai_Setara_IPK</th>\n",
       "      <th>3kreditas_Kampus_3sal</th>\n",
       "      <th>Motivasi_Studi</th>\n",
       "      <th>...</th>\n",
       "      <th>Problem_Solving</th>\n",
       "      <th>Literature_Review</th>\n",
       "      <th>Team_Work</th>\n",
       "      <th>Nilai_Akhir_Interview</th>\n",
       "      <th>Jenis_TOEFL</th>\n",
       "      <th>Nilai_TOEFL</th>\n",
       "      <th>Jenis_TPA</th>\n",
       "      <th>Nilai_TPA</th>\n",
       "      <th>Nilai_Total</th>\n",
       "      <th>Lama_Kuliah</th>\n",
       "    </tr>\n",
       "  </thead>\n",
       "  <tbody>\n",
       "    <tr>\n",
       "      <th>0</th>\n",
       "      <td>1</td>\n",
       "      <td>1</td>\n",
       "      <td>0.00</td>\n",
       "      <td>20.01</td>\n",
       "      <td>33.40</td>\n",
       "      <td>20.01</td>\n",
       "      <td>18.36</td>\n",
       "      <td>79.65</td>\n",
       "      <td>2</td>\n",
       "      <td>75</td>\n",
       "      <td>...</td>\n",
       "      <td>70</td>\n",
       "      <td>65</td>\n",
       "      <td>72</td>\n",
       "      <td>69.200000</td>\n",
       "      <td>4</td>\n",
       "      <td>75.07</td>\n",
       "      <td>3</td>\n",
       "      <td>62.67</td>\n",
       "      <td>57.66</td>\n",
       "      <td>6</td>\n",
       "    </tr>\n",
       "    <tr>\n",
       "      <th>1</th>\n",
       "      <td>1</td>\n",
       "      <td>2</td>\n",
       "      <td>6.70</td>\n",
       "      <td>40.02</td>\n",
       "      <td>33.40</td>\n",
       "      <td>26.70</td>\n",
       "      <td>26.71</td>\n",
       "      <td>64.13</td>\n",
       "      <td>2</td>\n",
       "      <td>85</td>\n",
       "      <td>...</td>\n",
       "      <td>82</td>\n",
       "      <td>68</td>\n",
       "      <td>82</td>\n",
       "      <td>76.300000</td>\n",
       "      <td>1</td>\n",
       "      <td>68.00</td>\n",
       "      <td>1</td>\n",
       "      <td>50.00</td>\n",
       "      <td>57.30</td>\n",
       "      <td>5</td>\n",
       "    </tr>\n",
       "    <tr>\n",
       "      <th>2</th>\n",
       "      <td>1</td>\n",
       "      <td>3</td>\n",
       "      <td>30.14</td>\n",
       "      <td>30.14</td>\n",
       "      <td>30.14</td>\n",
       "      <td>30.14</td>\n",
       "      <td>30.14</td>\n",
       "      <td>81.87</td>\n",
       "      <td>3</td>\n",
       "      <td>80</td>\n",
       "      <td>...</td>\n",
       "      <td>75</td>\n",
       "      <td>70</td>\n",
       "      <td>70</td>\n",
       "      <td>76.230000</td>\n",
       "      <td>1</td>\n",
       "      <td>76.97</td>\n",
       "      <td>1</td>\n",
       "      <td>68.67</td>\n",
       "      <td>66.24</td>\n",
       "      <td>4</td>\n",
       "    </tr>\n",
       "    <tr>\n",
       "      <th>3</th>\n",
       "      <td>3</td>\n",
       "      <td>3</td>\n",
       "      <td>30.14</td>\n",
       "      <td>30.14</td>\n",
       "      <td>30.14</td>\n",
       "      <td>30.14</td>\n",
       "      <td>30.14</td>\n",
       "      <td>81.87</td>\n",
       "      <td>3</td>\n",
       "      <td>80</td>\n",
       "      <td>...</td>\n",
       "      <td>80</td>\n",
       "      <td>70</td>\n",
       "      <td>70</td>\n",
       "      <td>76.230000</td>\n",
       "      <td>1</td>\n",
       "      <td>76.97</td>\n",
       "      <td>1</td>\n",
       "      <td>68.67</td>\n",
       "      <td>66.24</td>\n",
       "      <td>4</td>\n",
       "    </tr>\n",
       "    <tr>\n",
       "      <th>4</th>\n",
       "      <td>1</td>\n",
       "      <td>3</td>\n",
       "      <td>13.34</td>\n",
       "      <td>13.34</td>\n",
       "      <td>40.02</td>\n",
       "      <td>20.01</td>\n",
       "      <td>21.68</td>\n",
       "      <td>74.93</td>\n",
       "      <td>2</td>\n",
       "      <td>70</td>\n",
       "      <td>...</td>\n",
       "      <td>70</td>\n",
       "      <td>50</td>\n",
       "      <td>75</td>\n",
       "      <td>66.000000</td>\n",
       "      <td>4</td>\n",
       "      <td>97.00</td>\n",
       "      <td>3</td>\n",
       "      <td>69.00</td>\n",
       "      <td>59.88</td>\n",
       "      <td>5</td>\n",
       "    </tr>\n",
       "    <tr>\n",
       "      <th>...</th>\n",
       "      <td>...</td>\n",
       "      <td>...</td>\n",
       "      <td>...</td>\n",
       "      <td>...</td>\n",
       "      <td>...</td>\n",
       "      <td>...</td>\n",
       "      <td>...</td>\n",
       "      <td>...</td>\n",
       "      <td>...</td>\n",
       "      <td>...</td>\n",
       "      <td>...</td>\n",
       "      <td>...</td>\n",
       "      <td>...</td>\n",
       "      <td>...</td>\n",
       "      <td>...</td>\n",
       "      <td>...</td>\n",
       "      <td>...</td>\n",
       "      <td>...</td>\n",
       "      <td>...</td>\n",
       "      <td>...</td>\n",
       "      <td>...</td>\n",
       "    </tr>\n",
       "    <tr>\n",
       "      <th>92</th>\n",
       "      <td>1</td>\n",
       "      <td>4</td>\n",
       "      <td>40.00</td>\n",
       "      <td>50.00</td>\n",
       "      <td>10.00</td>\n",
       "      <td>110.00</td>\n",
       "      <td>50.10</td>\n",
       "      <td>85.75</td>\n",
       "      <td>3</td>\n",
       "      <td>80</td>\n",
       "      <td>...</td>\n",
       "      <td>75</td>\n",
       "      <td>75</td>\n",
       "      <td>75</td>\n",
       "      <td>70.714286</td>\n",
       "      <td>4</td>\n",
       "      <td>93.73</td>\n",
       "      <td>3</td>\n",
       "      <td>106.42</td>\n",
       "      <td>74.13</td>\n",
       "      <td>5</td>\n",
       "    </tr>\n",
       "    <tr>\n",
       "      <th>93</th>\n",
       "      <td>1</td>\n",
       "      <td>4</td>\n",
       "      <td>50.00</td>\n",
       "      <td>80.00</td>\n",
       "      <td>110.00</td>\n",
       "      <td>130.00</td>\n",
       "      <td>61.79</td>\n",
       "      <td>81.90</td>\n",
       "      <td>3</td>\n",
       "      <td>80</td>\n",
       "      <td>...</td>\n",
       "      <td>75</td>\n",
       "      <td>80</td>\n",
       "      <td>75</td>\n",
       "      <td>75.000000</td>\n",
       "      <td>1</td>\n",
       "      <td>60.00</td>\n",
       "      <td>1</td>\n",
       "      <td>70.00</td>\n",
       "      <td>66.89</td>\n",
       "      <td>4</td>\n",
       "    </tr>\n",
       "    <tr>\n",
       "      <th>94</th>\n",
       "      <td>1</td>\n",
       "      <td>4</td>\n",
       "      <td>50.00</td>\n",
       "      <td>30.00</td>\n",
       "      <td>70.00</td>\n",
       "      <td>20.00</td>\n",
       "      <td>28.39</td>\n",
       "      <td>86.75</td>\n",
       "      <td>3</td>\n",
       "      <td>80</td>\n",
       "      <td>...</td>\n",
       "      <td>60</td>\n",
       "      <td>70</td>\n",
       "      <td>80</td>\n",
       "      <td>78.670000</td>\n",
       "      <td>4</td>\n",
       "      <td>78.67</td>\n",
       "      <td>3</td>\n",
       "      <td>93.98</td>\n",
       "      <td>60.55</td>\n",
       "      <td>4</td>\n",
       "    </tr>\n",
       "    <tr>\n",
       "      <th>95</th>\n",
       "      <td>4</td>\n",
       "      <td>1</td>\n",
       "      <td>40.00</td>\n",
       "      <td>60.00</td>\n",
       "      <td>110.00</td>\n",
       "      <td>40.00</td>\n",
       "      <td>41.75</td>\n",
       "      <td>78.25</td>\n",
       "      <td>3</td>\n",
       "      <td>80</td>\n",
       "      <td>...</td>\n",
       "      <td>80</td>\n",
       "      <td>80</td>\n",
       "      <td>80</td>\n",
       "      <td>81.730000</td>\n",
       "      <td>4</td>\n",
       "      <td>81.73</td>\n",
       "      <td>3</td>\n",
       "      <td>105.78</td>\n",
       "      <td>69.19</td>\n",
       "      <td>4</td>\n",
       "    </tr>\n",
       "    <tr>\n",
       "      <th>96</th>\n",
       "      <td>1</td>\n",
       "      <td>5</td>\n",
       "      <td>40.00</td>\n",
       "      <td>10.00</td>\n",
       "      <td>140.00</td>\n",
       "      <td>40.00</td>\n",
       "      <td>38.41</td>\n",
       "      <td>74.58</td>\n",
       "      <td>2</td>\n",
       "      <td>80</td>\n",
       "      <td>...</td>\n",
       "      <td>75</td>\n",
       "      <td>75</td>\n",
       "      <td>80</td>\n",
       "      <td>76.160000</td>\n",
       "      <td>2</td>\n",
       "      <td>66.16</td>\n",
       "      <td>1</td>\n",
       "      <td>50.00</td>\n",
       "      <td>58.31</td>\n",
       "      <td>4</td>\n",
       "    </tr>\n",
       "  </tbody>\n",
       "</table>\n",
       "<p>97 rows × 24 columns</p>\n",
       "</div>"
      ],
      "text/plain": [
       "    Jenis_Beasiswa  Bidang_Riset  Matematika_Komputasi  \\\n",
       "0                1             1                  0.00   \n",
       "1                1             2                  6.70   \n",
       "2                1             3                 30.14   \n",
       "3                3             3                 30.14   \n",
       "4                1             3                 13.34   \n",
       "..             ...           ...                   ...   \n",
       "92               1             4                 40.00   \n",
       "93               1             4                 50.00   \n",
       "94               1             4                 50.00   \n",
       "95               4             1                 40.00   \n",
       "96               1             5                 40.00   \n",
       "\n",
       "    Jaringan /  Sistem Operasi  Basis_Data  Algoritma_dan_Pemrograman  \\\n",
       "0                        20.01       33.40                      20.01   \n",
       "1                        40.02       33.40                      26.70   \n",
       "2                        30.14       30.14                      30.14   \n",
       "3                        30.14       30.14                      30.14   \n",
       "4                        13.34       40.02                      20.01   \n",
       "..                         ...         ...                        ...   \n",
       "92                       50.00       10.00                     110.00   \n",
       "93                       80.00      110.00                     130.00   \n",
       "94                       30.00       70.00                      20.00   \n",
       "95                       60.00      110.00                      40.00   \n",
       "96                       10.00      140.00                      40.00   \n",
       "\n",
       "    Nilai_Akhir_Tes_Bidang  Nilai_Setara_IPK  3kreditas_Kampus_3sal  \\\n",
       "0                    18.36             79.65                      2   \n",
       "1                    26.71             64.13                      2   \n",
       "2                    30.14             81.87                      3   \n",
       "3                    30.14             81.87                      3   \n",
       "4                    21.68             74.93                      2   \n",
       "..                     ...               ...                    ...   \n",
       "92                   50.10             85.75                      3   \n",
       "93                   61.79             81.90                      3   \n",
       "94                   28.39             86.75                      3   \n",
       "95                   41.75             78.25                      3   \n",
       "96                   38.41             74.58                      2   \n",
       "\n",
       "    Motivasi_Studi  ...  Problem_Solving  Literature_Review  Team_Work  \\\n",
       "0               75  ...               70                 65         72   \n",
       "1               85  ...               82                 68         82   \n",
       "2               80  ...               75                 70         70   \n",
       "3               80  ...               80                 70         70   \n",
       "4               70  ...               70                 50         75   \n",
       "..             ...  ...              ...                ...        ...   \n",
       "92              80  ...               75                 75         75   \n",
       "93              80  ...               75                 80         75   \n",
       "94              80  ...               60                 70         80   \n",
       "95              80  ...               80                 80         80   \n",
       "96              80  ...               75                 75         80   \n",
       "\n",
       "    Nilai_Akhir_Interview  Jenis_TOEFL  Nilai_TOEFL  Jenis_TPA  Nilai_TPA  \\\n",
       "0               69.200000            4        75.07          3      62.67   \n",
       "1               76.300000            1        68.00          1      50.00   \n",
       "2               76.230000            1        76.97          1      68.67   \n",
       "3               76.230000            1        76.97          1      68.67   \n",
       "4               66.000000            4        97.00          3      69.00   \n",
       "..                    ...          ...          ...        ...        ...   \n",
       "92              70.714286            4        93.73          3     106.42   \n",
       "93              75.000000            1        60.00          1      70.00   \n",
       "94              78.670000            4        78.67          3      93.98   \n",
       "95              81.730000            4        81.73          3     105.78   \n",
       "96              76.160000            2        66.16          1      50.00   \n",
       "\n",
       "    Nilai_Total  Lama_Kuliah  \n",
       "0         57.66            6  \n",
       "1         57.30            5  \n",
       "2         66.24            4  \n",
       "3         66.24            4  \n",
       "4         59.88            5  \n",
       "..          ...          ...  \n",
       "92        74.13            5  \n",
       "93        66.89            4  \n",
       "94        60.55            4  \n",
       "95        69.19            4  \n",
       "96        58.31            4  \n",
       "\n",
       "[97 rows x 24 columns]"
      ]
     },
     "execution_count": 131,
     "metadata": {},
     "output_type": "execute_result"
    }
   ],
   "source": [
    "data"
   ]
  },
  {
   "cell_type": "code",
   "execution_count": 132,
   "id": "b8e1502e",
   "metadata": {},
   "outputs": [
    {
     "name": "stdout",
     "output_type": "stream",
     "text": [
      "<class 'pandas.core.frame.DataFrame'>\n",
      "RangeIndex: 97 entries, 0 to 96\n",
      "Data columns (total 24 columns):\n",
      " #   Column                      Non-Null Count  Dtype  \n",
      "---  ------                      --------------  -----  \n",
      " 0   Jenis_Beasiswa              97 non-null     int64  \n",
      " 1   Bidang_Riset                97 non-null     int64  \n",
      " 2   Matematika_Komputasi        97 non-null     float64\n",
      " 3   Jaringan /  Sistem Operasi  97 non-null     float64\n",
      " 4   Basis_Data                  97 non-null     float64\n",
      " 5   Algoritma_dan_Pemrograman   97 non-null     float64\n",
      " 6   Nilai_Akhir_Tes_Bidang      97 non-null     float64\n",
      " 7   Nilai_Setara_IPK            97 non-null     float64\n",
      " 8   3kreditas_Kampus_3sal       97 non-null     int64  \n",
      " 9   Motivasi_Studi              97 non-null     int64  \n",
      " 10  Motivasi_Beasiswa           97 non-null     int64  \n",
      " 11  Pengalaman                  97 non-null     int64  \n",
      " 12  Rencana_Riset               97 non-null     int64  \n",
      " 13  Komunikasi                  97 non-null     int64  \n",
      " 14  Problem_Solving             97 non-null     int64  \n",
      " 15  Literature_Review           97 non-null     int64  \n",
      " 16  Team_Work                   97 non-null     int64  \n",
      " 17  Nilai_Akhir_Interview       97 non-null     float64\n",
      " 18  Jenis_TOEFL                 97 non-null     int64  \n",
      " 19  Nilai_TOEFL                 97 non-null     float64\n",
      " 20  Jenis_TPA                   97 non-null     int64  \n",
      " 21  Nilai_TPA                   97 non-null     float64\n",
      " 22  Nilai_Total                 97 non-null     float64\n",
      " 23  Lama_Kuliah                 97 non-null     int64  \n",
      "dtypes: float64(10), int64(14)\n",
      "memory usage: 18.3 KB\n"
     ]
    }
   ],
   "source": [
    "data.info()"
   ]
  },
  {
   "cell_type": "code",
   "execution_count": 133,
   "id": "cc21c373",
   "metadata": {},
   "outputs": [],
   "source": [
    "X = data.drop('Lama_Kuliah', axis=1)\n",
    "y = data['Lama_Kuliah']"
   ]
  },
  {
   "cell_type": "code",
   "execution_count": 134,
   "id": "fa9c38fc",
   "metadata": {},
   "outputs": [
    {
     "data": {
      "text/plain": [
       "['Jenis_Beasiswa',\n",
       " 'Bidang_Riset',\n",
       " 'Matematika_Komputasi',\n",
       " 'Jaringan /  Sistem Operasi',\n",
       " 'Basis_Data',\n",
       " 'Algoritma_dan_Pemrograman',\n",
       " 'Nilai_Akhir_Tes_Bidang',\n",
       " 'Nilai_Setara_IPK',\n",
       " '3kreditas_Kampus_3sal',\n",
       " 'Motivasi_Studi',\n",
       " 'Motivasi_Beasiswa',\n",
       " 'Pengalaman',\n",
       " 'Rencana_Riset',\n",
       " 'Komunikasi',\n",
       " 'Problem_Solving',\n",
       " 'Literature_Review',\n",
       " 'Team_Work',\n",
       " 'Nilai_Akhir_Interview',\n",
       " 'Jenis_TOEFL',\n",
       " 'Nilai_TOEFL',\n",
       " 'Jenis_TPA',\n",
       " 'Nilai_TPA',\n",
       " 'Nilai_Total']"
      ]
     },
     "execution_count": 134,
     "metadata": {},
     "output_type": "execute_result"
    }
   ],
   "source": [
    "list(X.columns)"
   ]
  },
  {
   "cell_type": "code",
   "execution_count": 135,
   "id": "282c4cc4",
   "metadata": {},
   "outputs": [
    {
     "name": "stdout",
     "output_type": "stream",
     "text": [
      "Counter({4: 40, 5: 35, 6: 11, 3: 11})\n"
     ]
    },
    {
     "data": {
      "image/png": "[encoded data removed]",
      "text/plain": [
       "<Figure size 432x288 with 1 Axes>"
      ]
     },
     "metadata": {
      "needs_background": "light"
     },
     "output_type": "display_data"
    }
   ],
   "source": [
    "# Generate and plot a synthetic imbalanced classification dataset\n",
    "from collections import Counter\n",
    "from sklearn.datasets import make_classification\n",
    "from matplotlib import pyplot\n",
    "from numpy import where\n",
    "# define dataset\n",
    "counter = Counter(y.to_numpy())\n",
    "print(counter)\n",
    "# scatter plot of examples by class label\n",
    "for label, _ in counter.items():\n",
    "\trow_ix = where(y.to_numpy() == label)[0]\n",
    "\tpyplot.scatter(X.to_numpy()[row_ix, 22], X.to_numpy()[row_ix, 17], label=str(label))\n",
    "pyplot.xlabel(\"Nilai Total\")\n",
    "pyplot.ylabel(\"Nilai Akhir Interview\")\n",
    "pyplot.legend()\n",
    "pyplot.show()"
   ]
  },
  {
   "cell_type": "code",
   "execution_count": 136,
   "id": "8bd2a3af",
   "metadata": {},
   "outputs": [
    {
     "data": {
      "text/plain": [
       "Jenis_Beasiswa                  4.00\n",
       "Bidang_Riset                    5.00\n",
       "Matematika_Komputasi           80.00\n",
       "Jaringan /  Sistem Operasi     80.00\n",
       "Basis_Data                    140.00\n",
       "Algoritma_dan_Pemrograman     140.00\n",
       "Nilai_Akhir_Tes_Bidang         65.13\n",
       "Nilai_Setara_IPK               95.50\n",
       "3kreditas_Kampus_3sal           3.00\n",
       "Motivasi_Studi                 90.00\n",
       "Motivasi_Beasiswa              85.00\n",
       "Pengalaman                     86.00\n",
       "Rencana_Riset                  90.00\n",
       "Komunikasi                     90.00\n",
       "Problem_Solving                90.00\n",
       "Literature_Review              85.00\n",
       "Team_Work                      90.00\n",
       "Nilai_Akhir_Interview          84.30\n",
       "Jenis_TOEFL                     4.00\n",
       "Nilai_TOEFL                    97.00\n",
       "Jenis_TPA                       3.00\n",
       "Nilai_TPA                     113.34\n",
       "Nilai_Total                    77.58\n",
       "dtype: float64"
      ]
     },
     "execution_count": 136,
     "metadata": {},
     "output_type": "execute_result"
    }
   ],
   "source": [
    "X.max()"
   ]
  },
  {
   "cell_type": "code",
   "execution_count": 137,
   "id": "b66848cd",
   "metadata": {},
   "outputs": [],
   "source": [
    "# build the scaler model\n",
    "X = pd.DataFrame(MinMaxScaler().fit_transform(X), columns=X.columns, index=X.index)"
   ]
  },
  {
   "cell_type": "markdown",
   "id": "1bf0efcf",
   "metadata": {},
   "source": [
    "### Akurasi RF "
   ]
  },
  {
   "cell_type": "code",
   "execution_count": 138,
   "id": "02db977c",
   "metadata": {},
   "outputs": [],
   "source": [
    "X_train, X_test, y_train, y_test = train_test_split(X, y, test_size = 0.2)"
   ]
  },
  {
   "cell_type": "code",
   "execution_count": 139,
   "id": "0f7ba32c",
   "metadata": {},
   "outputs": [
    {
     "name": "stdout",
     "output_type": "stream",
     "text": [
      "Accuracy 0.7\n"
     ]
    }
   ],
   "source": [
    "# fit the model\n",
    "model = RandomForestClassifier()\n",
    "model.fit(X_train, y_train)\n",
    "# make predictions\n",
    "yPred = model.predict(X_test)\n",
    "# evaluate predictions\n",
    "acc = accuracy_score(y_test, yPred)\n",
    "print('Accuracy', acc)"
   ]
  },
  {
   "cell_type": "code",
   "execution_count": null,
   "id": "3a4943fa",
   "metadata": {},
   "outputs": [],
   "source": []
  },
  {
   "cell_type": "code",
   "execution_count": 140,
   "id": "361c0676",
   "metadata": {},
   "outputs": [
    {
     "name": "stdout",
     "output_type": "stream",
     "text": [
      "              precision    recall  f1-score   support\n",
      "\n",
      "           3       0.00      0.00      0.00         1\n",
      "           4       0.86      0.60      0.71        10\n",
      "           5       0.73      0.89      0.80         9\n",
      "           6       0.00      0.00      0.00         0\n",
      "\n",
      "    accuracy                           0.70        20\n",
      "   macro avg       0.40      0.37      0.38        20\n",
      "weighted avg       0.76      0.70      0.71        20\n",
      "\n"
     ]
    },
    {
     "name": "stderr",
     "output_type": "stream",
     "text": [
      "c:\\users\\rifky\\appdata\\local\\programs\\python\\python39\\lib\\site-packages\\sklearn\\metrics\\_classification.py:1248: UndefinedMetricWarning: Recall and F-score are ill-defined and being set to 0.0 in labels with no true samples. Use `zero_division` parameter to control this behavior.\n",
      "  _warn_prf(average, modifier, msg_start, len(result))\n",
      "c:\\users\\rifky\\appdata\\local\\programs\\python\\python39\\lib\\site-packages\\sklearn\\metrics\\_classification.py:1248: UndefinedMetricWarning: Recall and F-score are ill-defined and being set to 0.0 in labels with no true samples. Use `zero_division` parameter to control this behavior.\n",
      "  _warn_prf(average, modifier, msg_start, len(result))\n",
      "c:\\users\\rifky\\appdata\\local\\programs\\python\\python39\\lib\\site-packages\\sklearn\\metrics\\_classification.py:1248: UndefinedMetricWarning: Recall and F-score are ill-defined and being set to 0.0 in labels with no true samples. Use `zero_division` parameter to control this behavior.\n",
      "  _warn_prf(average, modifier, msg_start, len(result))\n"
     ]
    }
   ],
   "source": [
    "from sklearn.metrics import classification_report\n",
    "target_names = ['3','4','5','6']\n",
    "print(classification_report(y_test, yPred, target_names=target_names))"
   ]
  },
  {
   "cell_type": "markdown",
   "id": "db34e66f",
   "metadata": {},
   "source": [
    "## Oversampling - SMOTE"
   ]
  },
  {
   "cell_type": "code",
   "execution_count": 141,
   "id": "e0d04348",
   "metadata": {},
   "outputs": [],
   "source": [
    "from imblearn.over_sampling import SMOTE, ADASYN,BorderlineSMOTE"
   ]
  },
  {
   "cell_type": "code",
   "execution_count": 142,
   "id": "8e2392d1",
   "metadata": {},
   "outputs": [
    {
     "data": {
      "text/plain": [
       "<AxesSubplot:>"
      ]
     },
     "execution_count": 142,
     "metadata": {},
     "output_type": "execute_result"
    },
    {
     "data": {
      "image/png": "[encoded data removed]",
      "text/plain": [
       "<Figure size 432x288 with 1 Axes>"
      ]
     },
     "metadata": {
      "needs_background": "light"
     },
     "output_type": "display_data"
    }
   ],
   "source": [
    "y.value_counts().plot.bar()"
   ]
  },
  {
   "cell_type": "code",
   "execution_count": 143,
   "id": "bea883d3",
   "metadata": {},
   "outputs": [],
   "source": [
    "X_resampled, y_resampled = SMOTE().fit_resample(X, y)"
   ]
  },
  {
   "cell_type": "code",
   "execution_count": 144,
   "id": "8639472a",
   "metadata": {},
   "outputs": [
    {
     "data": {
      "text/plain": [
       "<AxesSubplot:>"
      ]
     },
     "execution_count": 144,
     "metadata": {},
     "output_type": "execute_result"
    },
    {
     "data": {
      "image/png": "[encoded data removed]",
      "text/plain": [
       "<Figure size 432x288 with 1 Axes>"
      ]
     },
     "metadata": {
      "needs_background": "light"
     },
     "output_type": "display_data"
    }
   ],
   "source": [
    "y_resampled.value_counts().plot.bar()"
   ]
  },
  {
   "cell_type": "code",
   "execution_count": 145,
   "id": "ce8f0cb1",
   "metadata": {},
   "outputs": [
    {
     "data": {
      "text/plain": [
       "(160, 23)"
      ]
     },
     "execution_count": 145,
     "metadata": {},
     "output_type": "execute_result"
    }
   ],
   "source": [
    "X_resampled.shape"
   ]
  },
  {
   "cell_type": "markdown",
   "id": "3689d078",
   "metadata": {},
   "source": [
    "### Akurasi RF + SMOTE "
   ]
  },
  {
   "cell_type": "code",
   "execution_count": 146,
   "id": "0a4a0f2c",
   "metadata": {},
   "outputs": [],
   "source": [
    "X_train, X_test, y_train, y_test = train_test_split(X_resampled, y_resampled, test_size = 0.2)"
   ]
  },
  {
   "cell_type": "code",
   "execution_count": 147,
   "id": "f46dd917",
   "metadata": {},
   "outputs": [
    {
     "name": "stdout",
     "output_type": "stream",
     "text": [
      "Accuracy 0.8125\n"
     ]
    }
   ],
   "source": [
    "# fit the model\n",
    "model = RandomForestClassifier(bootstrap= True,\n",
    "                                   max_depth= None,\n",
    "                                   max_features= 'auto',\n",
    "                                   min_samples_leaf= 2,\n",
    "                                   min_samples_split= 5,\n",
    "                                   n_estimators= 162)\n",
    "model.fit(X_train, y_train)\n",
    "# make predictions\n",
    "yPred = model.predict(X_test)\n",
    "# evaluate pre`1dictions\n",
    "acc = accuracy_score(y_test, yPred)\n",
    "print('Accuracy', acc)"
   ]
  },
  {
   "cell_type": "code",
   "execution_count": 148,
   "id": "9b66632c",
   "metadata": {},
   "outputs": [
    {
     "name": "stdout",
     "output_type": "stream",
     "text": [
      "              precision    recall  f1-score   support\n",
      "\n",
      "           3       0.80      1.00      0.89         8\n",
      "           4       1.00      0.75      0.86         8\n",
      "           5       1.00      0.60      0.75        10\n",
      "           6       0.60      1.00      0.75         6\n",
      "\n",
      "    accuracy                           0.81        32\n",
      "   macro avg       0.85      0.84      0.81        32\n",
      "weighted avg       0.88      0.81      0.81        32\n",
      "\n"
     ]
    }
   ],
   "source": [
    "from sklearn.metrics import classification_report\n",
    "target_names = ['3','4','5','6']\n",
    "print(classification_report(y_test, yPred, target_names=target_names))"
   ]
  },
  {
   "cell_type": "markdown",
   "id": "cd326880",
   "metadata": {},
   "source": [
    "### Akurasi RF + SMOTE + RFE"
   ]
  },
  {
   "cell_type": "code",
   "execution_count": 149,
   "id": "8d3bd0af",
   "metadata": {},
   "outputs": [],
   "source": [
    "X_resampled = X_resampled.drop(['Jenis_TPA', 'Jenis_Beasiswa', 'Motivasi_Beasiswa'], axis=1)"
   ]
  },
  {
   "cell_type": "code",
   "execution_count": 103,
   "id": "d6cbb234",
   "metadata": {},
   "outputs": [],
   "source": [
    "X_train, X_test, y_train, y_test = train_test_split(X_resampled, y_resampled, test_size = 0.2)"
   ]
  },
  {
   "cell_type": "code",
   "execution_count": 104,
   "id": "5de18f1d",
   "metadata": {},
   "outputs": [
    {
     "name": "stdout",
     "output_type": "stream",
     "text": [
      "Accuracy 0.84375\n"
     ]
    }
   ],
   "source": [
    "# fit the model\n",
    "model = RandomForestClassifier()\n",
    "model.fit(X_train, y_train)\n",
    "# make predictions\n",
    "yPred = model.predict(X_test)\n",
    "# evaluate pre`1dictions\n",
    "acc = accuracy_score(y_test, yPred)\n",
    "print('Accuracy', acc)"
   ]
  },
  {
   "cell_type": "code",
   "execution_count": 105,
   "id": "6d6e9837",
   "metadata": {},
   "outputs": [
    {
     "name": "stdout",
     "output_type": "stream",
     "text": [
      "              precision    recall  f1-score   support\n",
      "\n",
      "           3       0.91      1.00      0.95        10\n",
      "           4       0.75      0.60      0.67         5\n",
      "           5       0.67      0.86      0.75         7\n",
      "           6       1.00      0.80      0.89        10\n",
      "\n",
      "    accuracy                           0.84        32\n",
      "   macro avg       0.83      0.81      0.81        32\n",
      "weighted avg       0.86      0.84      0.84        32\n",
      "\n"
     ]
    }
   ],
   "source": [
    "from sklearn.metrics import classification_report\n",
    "target_names = ['3','4','5','6']\n",
    "print(classification_report(y_test, yPred, target_names=target_names))"
   ]
  },
  {
   "cell_type": "markdown",
   "id": "a1383705",
   "metadata": {},
   "source": [
    "### Akurasi RF + SMOTE + HPO "
   ]
  },
  {
   "cell_type": "code",
   "execution_count": 319,
   "id": "b422a5e3",
   "metadata": {},
   "outputs": [],
   "source": [
    "import math\n",
    "def svc2(x):\n",
    "    if (int(abs(x[0]) < 1)):\n",
    "        boot = False\n",
    "    else:\n",
    "        boot = True\n",
    "        \n",
    "    if (int(abs(x[1]) < 4)):\n",
    "        depth = None\n",
    "    else:\n",
    "        depth = int(abs(x[1]))\n",
    "    \n",
    "    if (int(abs(x[2])) < 2):\n",
    "        features = 'auto' \n",
    "    else:\n",
    "        features = int(abs(x[2]))\n",
    "        \n",
    "    model = RandomForestClassifier(bootstrap= boot,\n",
    "                                   max_depth= depth,\n",
    "                                   max_features= features,\n",
    "                                   min_samples_leaf= int(abs(x[3])),\n",
    "                                   min_samples_split= int(abs(x[4])),\n",
    "                                   n_estimators= int(abs(x[5])))\n",
    "    acc = cross_val_score(model, X_train, y_train, cv=5,scoring='accuracy')\n",
    "    inv_acc = 1/(np.mean(acc))\n",
    "    return inv_acc"
   ]
  },
  {
   "cell_type": "code",
   "execution_count": 320,
   "id": "c9fdcc35",
   "metadata": {},
   "outputs": [],
   "source": [
    "def s(x):\n",
    "    n_particles = x.shape[0]\n",
    "    j = [svc2(x[i]) for i in range (n_particles)]\n",
    "    return np.array(j)"
   ]
  },
  {
   "cell_type": "code",
   "execution_count": 297,
   "id": "6e465775",
   "metadata": {},
   "outputs": [],
   "source": [
    "# Create bounds\n",
    "max_bound = [2, 8, 4, 4, 6, 300]\n",
    "min_bound = [0, 1, 0, 1, 2, 50]\n",
    "bounds = (min_bound, max_bound)"
   ]
  },
  {
   "cell_type": "code",
   "execution_count": 298,
   "id": "8bd5e845",
   "metadata": {},
   "outputs": [
    {
     "name": "stderr",
     "output_type": "stream",
     "text": [
      "2021-12-21 06:25:45,701 - pyswarms.single.global_best - INFO - Optimize for 20 iters with {'c1': 1.9, 'c2': 1.9, 'w': 0.5}\n",
      "pyswarms.single.global_best: 100%|███████████████████████████████████████████████████████████████|20/20, best_cost=1.28\n",
      "2021-12-21 06:28:42,715 - pyswarms.single.global_best - INFO - Optimization finished | best cost: 1.2780180888714117, best pos: [  0.96871942   3.54529355   2.74688255   1.37004569   4.28458335\n",
      " 230.15129888]\n"
     ]
    },
    {
     "name": "stdout",
     "output_type": "stream",
     "text": [
      "--- 177.02048087120056 seconds ---\n"
     ]
    }
   ],
   "source": [
    "import time\n",
    "start_time = time.time()\n",
    "options = {'c1': 1.9, 'c2':1.9, 'w':0.5}\n",
    "\n",
    "dimensions = 6\n",
    "optimizer = ps.single.GlobalBestPSO(n_particles=10, dimensions=dimensions,\n",
    "                                   options=options, bounds=bounds)\n",
    "\n",
    "cost, post = optimizer.optimize(s, iters=20)\n",
    "print(\"--- %s seconds ---\" % (time.time() - start_time))"
   ]
  },
  {
   "cell_type": "code",
   "execution_count": 299,
   "id": "bae1170c",
   "metadata": {},
   "outputs": [
    {
     "name": "stdout",
     "output_type": "stream",
     "text": [
      "0.7824615384615385\n"
     ]
    }
   ],
   "source": [
    "acc_svm = 1/cost\n",
    "print(acc_svm)"
   ]
  },
  {
   "cell_type": "markdown",
   "id": "188b73b8",
   "metadata": {},
   "source": [
    "### Akurasi RF + SMOTE + RFE + PSO"
   ]
  },
  {
   "cell_type": "code",
   "execution_count": 151,
   "id": "82706bb7",
   "metadata": {},
   "outputs": [
    {
     "name": "stdout",
     "output_type": "stream",
     "text": [
      "Accuracy 0.84375\n"
     ]
    }
   ],
   "source": [
    "# fit the model\n",
    "model = RandomForestClassifier(bootstrap= True,\n",
    "                                   max_depth= None,\n",
    "                                   max_features= 'auto',\n",
    "                                   min_samples_leaf= 2,\n",
    "                                   min_samples_split= 5,\n",
    "                                   n_estimators= 162)\n",
    "model.fit(X_train, y_train)\n",
    "# make predictions\n",
    "yPred = model.predict(X_test)\n",
    "# evaluate predictions\n",
    "acc = accuracy_score(y_test, yPred)\n",
    "print('Accuracy', acc)"
   ]
  },
  {
   "cell_type": "code",
   "execution_count": 152,
   "id": "561bccda",
   "metadata": {},
   "outputs": [
    {
     "name": "stdout",
     "output_type": "stream",
     "text": [
      "Average number of nodes 39\n",
      "Average maximum depth 7\n"
     ]
    }
   ],
   "source": [
    "n_nodes = []\n",
    "max_depths = []\n",
    "\n",
    "for ind_tree in model.estimators_:\n",
    "    n_nodes.append(ind_tree.tree_.node_count)\n",
    "    max_depths.append(ind_tree.tree_.max_depth)\n",
    "    \n",
    "print(f'Average number of nodes {int(np.mean(n_nodes))}')\n",
    "print(f'Average maximum depth {int(np.mean(max_depths))}')"
   ]
  },
  {
   "cell_type": "code",
   "execution_count": 155,
   "id": "b004a6c2",
   "metadata": {},
   "outputs": [],
   "source": [
    ">>>\n",
    ">>> from sklearn.datasets import load_iris\n",
    ">>> from sklearn import tree\n",
    ">>> iris = load_iris()\n",
    ">>> X, y = iris.data, iris.target\n",
    ">>> clf = tree.DecisionTreeClassifier()\n",
    ">>> clf = clf.fit(X, y)"
   ]
  },
  {
   "cell_type": "code",
   "execution_count": 156,
   "id": "94bbd086",
   "metadata": {},
   "outputs": [
    {
     "data": {
      "text/plain": [
       "[Text(167.4, 199.32, 'X[3] <= 0.8\\ngini = 0.667\\nsamples = 150\\nvalue = [50, 50, 50]'),\n",
       " Text(141.64615384615385, 163.07999999999998, 'gini = 0.0\\nsamples = 50\\nvalue = [50, 0, 0]'),\n",
       " Text(193.15384615384616, 163.07999999999998, 'X[3] <= 1.75\\ngini = 0.5\\nsamples = 100\\nvalue = [0, 50, 50]'),\n",
       " Text(103.01538461538462, 126.83999999999999, 'X[2] <= 4.95\\ngini = 0.168\\nsamples = 54\\nvalue = [0, 49, 5]'),\n",
       " Text(51.50769230769231, 90.6, 'X[3] <= 1.65\\ngini = 0.041\\nsamples = 48\\nvalue = [0, 47, 1]'),\n",
       " Text(25.753846153846155, 54.359999999999985, 'gini = 0.0\\nsamples = 47\\nvalue = [0, 47, 0]'),\n",
       " Text(77.26153846153846, 54.359999999999985, 'gini = 0.0\\nsamples = 1\\nvalue = [0, 0, 1]'),\n",
       " Text(154.52307692307693, 90.6, 'X[3] <= 1.55\\ngini = 0.444\\nsamples = 6\\nvalue = [0, 2, 4]'),\n",
       " Text(128.76923076923077, 54.359999999999985, 'gini = 0.0\\nsamples = 3\\nvalue = [0, 0, 3]'),\n",
       " Text(180.27692307692308, 54.359999999999985, 'X[2] <= 5.45\\ngini = 0.444\\nsamples = 3\\nvalue = [0, 2, 1]'),\n",
       " Text(154.52307692307693, 18.119999999999976, 'gini = 0.0\\nsamples = 2\\nvalue = [0, 2, 0]'),\n",
       " Text(206.03076923076924, 18.119999999999976, 'gini = 0.0\\nsamples = 1\\nvalue = [0, 0, 1]'),\n",
       " Text(283.2923076923077, 126.83999999999999, 'X[2] <= 4.85\\ngini = 0.043\\nsamples = 46\\nvalue = [0, 1, 45]'),\n",
       " Text(257.53846153846155, 90.6, 'X[0] <= 5.95\\ngini = 0.444\\nsamples = 3\\nvalue = [0, 1, 2]'),\n",
       " Text(231.7846153846154, 54.359999999999985, 'gini = 0.0\\nsamples = 1\\nvalue = [0, 1, 0]'),\n",
       " Text(283.2923076923077, 54.359999999999985, 'gini = 0.0\\nsamples = 2\\nvalue = [0, 0, 2]'),\n",
       " Text(309.04615384615386, 90.6, 'gini = 0.0\\nsamples = 43\\nvalue = [0, 0, 43]')]"
      ]
     },
     "execution_count": 156,
     "metadata": {},
     "output_type": "execute_result"
    },
    {
     "data": {
      "image/png": "[encoded data removed]",
      "text/plain": [
       "<Figure size 432x288 with 1 Axes>"
      ]
     },
     "metadata": {
      "needs_background": "light"
     },
     "output_type": "display_data"
    }
   ],
   "source": [
    "tree.plot_tree(clf)"
   ]
  },
  {
   "cell_type": "code",
   "execution_count": null,
   "id": "1ae0dde6",
   "metadata": {},
   "outputs": [],
   "source": [
    ">>> import graphviz \n",
    ">>> dot_data = tree.export_graphviz(clf, out_file=None) \n",
    ">>> graph = graphviz.Source(dot_data) \n",
    ">>> graph.render(\"iris\") "
   ]
  },
  {
   "cell_type": "code",
   "execution_count": null,
   "id": "e83912bb",
   "metadata": {},
   "outputs": [],
   "source": [
    ">>> dot_data = tree.export_graphviz(clf, out_file=None, \n",
    "...                      feature_names=iris.feature_names,  \n",
    "...                      class_names=iris.target_names,  \n",
    "...                      filled=True, rounded=True,  \n",
    "...                      special_characters=True)  \n",
    ">>> graph = graphviz.Source(dot_data)  \n",
    ">>> graph"
   ]
  },
  {
   "cell_type": "code",
   "execution_count": 302,
   "id": "573b3038",
   "metadata": {},
   "outputs": [
    {
     "name": "stdout",
     "output_type": "stream",
     "text": [
      "              precision    recall  f1-score   support\n",
      "\n",
      "           3       0.73      0.89      0.80         9\n",
      "           4       0.83      0.56      0.67         9\n",
      "           5       0.83      0.83      0.83         6\n",
      "           6       0.89      1.00      0.94         8\n",
      "\n",
      "    accuracy                           0.81        32\n",
      "   macro avg       0.82      0.82      0.81        32\n",
      "weighted avg       0.82      0.81      0.80        32\n",
      "\n"
     ]
    }
   ],
   "source": [
    "from sklearn.metrics import classification_report\n",
    "target_names = ['3','4','5','6']\n",
    "print(classification_report(y_test, yPred, target_names=target_names))"
   ]
  },
  {
   "cell_type": "markdown",
   "id": "56cc912e",
   "metadata": {},
   "source": [
    "## Seleksi Fiture RF-RFE"
   ]
  },
  {
   "cell_type": "code",
   "execution_count": 132,
   "id": "2997d6f5",
   "metadata": {},
   "outputs": [
    {
     "ename": "NameError",
     "evalue": "name 'rfc' is not defined",
     "output_type": "error",
     "traceback": [
      "\u001b[1;31m---------------------------------------------------------------------------\u001b[0m",
      "\u001b[1;31mNameError\u001b[0m                                 Traceback (most recent call last)",
      "\u001b[1;32m~\\AppData\\Local\\Temp/ipykernel_22996/445181851.py\u001b[0m in \u001b[0;36m<module>\u001b[1;34m\u001b[0m\n\u001b[0;32m      6\u001b[0m \u001b[1;31m# define the model\u001b[0m\u001b[1;33m\u001b[0m\u001b[1;33m\u001b[0m\u001b[1;33m\u001b[0m\u001b[0m\n\u001b[0;32m      7\u001b[0m \u001b[1;31m# get importance\u001b[0m\u001b[1;33m\u001b[0m\u001b[1;33m\u001b[0m\u001b[1;33m\u001b[0m\u001b[0m\n\u001b[1;32m----> 8\u001b[1;33m \u001b[0mrfc\u001b[0m\u001b[1;33m.\u001b[0m\u001b[0mfit\u001b[0m\u001b[1;33m(\u001b[0m\u001b[0mX_resampled\u001b[0m\u001b[1;33m,\u001b[0m \u001b[0my_resampled\u001b[0m\u001b[1;33m)\u001b[0m\u001b[1;33m\u001b[0m\u001b[1;33m\u001b[0m\u001b[0m\n\u001b[0m\u001b[0;32m      9\u001b[0m \u001b[0mimportance\u001b[0m \u001b[1;33m=\u001b[0m \u001b[0mrfc\u001b[0m\u001b[1;33m.\u001b[0m\u001b[0mfeature_importances_\u001b[0m\u001b[1;33m\u001b[0m\u001b[1;33m\u001b[0m\u001b[0m\n\u001b[0;32m     10\u001b[0m \u001b[1;31m# summarize feature importance\u001b[0m\u001b[1;33m\u001b[0m\u001b[1;33m\u001b[0m\u001b[1;33m\u001b[0m\u001b[0m\n",
      "\u001b[1;31mNameError\u001b[0m: name 'rfc' is not defined"
     ]
    }
   ],
   "source": [
    "# decision tree for feature importance on a regression problem\n",
    "from sklearn.datasets import make_regression\n",
    "from sklearn.tree import DecisionTreeRegressor\n",
    "from matplotlib import pyplot\n",
    "from sklearn import tree\n",
    "# define the model\n",
    "# get importance\n",
    "rfc.fit(X_resampled, y_resampled)\n",
    "importance = rfc.feature_importances_\n",
    "# summarize feature importance\n",
    "for i,v in enumerate(importance):\n",
    "\tprint('Feature: %0d, Score: %.5f' % (i,v))\n",
    "# plot feature importance\n",
    "pyplot.bar([x for x in range(len(importance))], importance)\n",
    "pyplot.show()"
   ]
  },
  {
   "cell_type": "code",
   "execution_count": 1895,
   "id": "090b1129",
   "metadata": {},
   "outputs": [
    {
     "data": {
      "text/plain": [
       "<BarContainer object of 23 artists>"
      ]
     },
     "execution_count": 1895,
     "metadata": {},
     "output_type": "execute_result"
    },
    {
     "data": {
      "image/png": "[encoded data removed]",
      "text/plain": [
       "<Figure size 432x576 with 1 Axes>"
      ]
     },
     "metadata": {
      "needs_background": "light"
     },
     "output_type": "display_data"
    }
   ],
   "source": [
    "plt.rcParams.update({'figure.figsize': (6.0, 8.0)})\n",
    "plt.rcParams.update({'font.size': 14})\n",
    "\n",
    "plt.barh(list(X_resampled.columns), importance)"
   ]
  },
  {
   "cell_type": "code",
   "execution_count": 817,
   "id": "723f3f1d",
   "metadata": {},
   "outputs": [
    {
     "data": {
      "text/plain": [
       "RFECV(cv=StratifiedKFold(n_splits=10, random_state=None, shuffle=False),\n",
       "      estimator=RandomForestClassifier(), scoring='accuracy')"
      ]
     },
     "execution_count": 817,
     "metadata": {},
     "output_type": "execute_result"
    }
   ],
   "source": [
    "rfc = RandomForestClassifier()\n",
    "rfecv = RFECV(estimator=rfc, step=1, cv=StratifiedKFold(10), scoring='accuracy')\n",
    "rfecv.fit(X_resampled, y_resampled)"
   ]
  },
  {
   "cell_type": "code",
   "execution_count": 818,
   "id": "8e3d8f3b",
   "metadata": {},
   "outputs": [
    {
     "name": "stdout",
     "output_type": "stream",
     "text": [
      "Optimal number of features: 21\n"
     ]
    }
   ],
   "source": [
    "print('Optimal number of features: {}'.format(rfecv.n_features_))"
   ]
  },
  {
   "cell_type": "code",
   "execution_count": 819,
   "id": "a30443a8",
   "metadata": {},
   "outputs": [
    {
     "data": {
      "image/png": "[encoded data removed]",
      "text/plain": [
       "<Figure size 504x360 with 1 Axes>"
      ]
     },
     "metadata": {
      "needs_background": "light"
     },
     "output_type": "display_data"
    }
   ],
   "source": [
    "plt.figure(figsize=(7, 5))\n",
    "plt.title('RF-RFE dengan 10-folds CV', fontsize=18, fontweight='bold', pad=10)\n",
    "plt.xlabel('Jumlah Fitur', fontsize=14, labelpad=10)\n",
    "plt.ylabel('Akurasi', fontsize=14, labelpad=10)\n",
    "plt.plot(range(1, len(rfecv.grid_scores_) + 1), rfecv.grid_scores_, color='#303F9F', linewidth=3, marker='o')\n",
    "\n",
    "plt.show()"
   ]
  },
  {
   "cell_type": "code",
   "execution_count": 820,
   "id": "b40b7053",
   "metadata": {},
   "outputs": [
    {
     "name": "stdout",
     "output_type": "stream",
     "text": [
      "[10 20]\n"
     ]
    }
   ],
   "source": [
    "print(np.where(rfecv.support_ == False)[0])\n",
    "\n",
    "X_resampled.drop(X_resampled.columns[np.where(rfecv.support_ == False)[0]], axis=1, inplace=True)"
   ]
  },
  {
   "cell_type": "code",
   "execution_count": 821,
   "id": "1745b8bb",
   "metadata": {},
   "outputs": [
    {
     "data": {
      "text/plain": [
       "(160, 21)"
      ]
     },
     "execution_count": 821,
     "metadata": {},
     "output_type": "execute_result"
    }
   ],
   "source": [
    "X_resampled.shape"
   ]
  },
  {
   "cell_type": "markdown",
   "id": "df9928e9",
   "metadata": {},
   "source": [
    "## Hyperparameter Optimization (Particle Swarm Optimization)"
   ]
  },
  {
   "cell_type": "code",
   "execution_count": 1230,
   "id": "dcf08117",
   "metadata": {},
   "outputs": [
    {
     "name": "stdout",
     "output_type": "stream",
     "text": [
      "<class 'pandas.core.frame.DataFrame'>\n",
      "RangeIndex: 160 entries, 0 to 159\n",
      "Data columns (total 23 columns):\n",
      " #   Column                      Non-Null Count  Dtype  \n",
      "---  ------                      --------------  -----  \n",
      " 0   Jenis_Beasiswa              160 non-null    float64\n",
      " 1   Bidang_Riset                160 non-null    float64\n",
      " 2   Matematika_Komputasi        160 non-null    float64\n",
      " 3   Jaringan /  Sistem Operasi  160 non-null    float64\n",
      " 4   Basis_Data                  160 non-null    float64\n",
      " 5   Algoritma_dan_Pemrograman   160 non-null    float64\n",
      " 6   Nilai_Akhir_Tes_Bidang      160 non-null    float64\n",
      " 7   Nilai_Setara_IPK            160 non-null    float64\n",
      " 8   3kreditas_Kampus_3sal       160 non-null    float64\n",
      " 9   Motivasi_Studi              160 non-null    float64\n",
      " 10  Motivasi_Beasiswa           160 non-null    float64\n",
      " 11  Pengalaman                  160 non-null    float64\n",
      " 12  Rencana_Riset               160 non-null    float64\n",
      " 13  Komunikasi                  160 non-null    float64\n",
      " 14  Problem_Solving             160 non-null    float64\n",
      " 15  Literature_Review           160 non-null    float64\n",
      " 16  Team_Work                   160 non-null    float64\n",
      " 17  Nilai_Akhir_Interview       160 non-null    float64\n",
      " 18  Jenis_TOEFL                 160 non-null    float64\n",
      " 19  Nilai_TOEFL                 160 non-null    float64\n",
      " 20  Jenis_TPA                   160 non-null    float64\n",
      " 21  Nilai_TPA                   160 non-null    float64\n",
      " 22  Nilai_Total                 160 non-null    float64\n",
      "dtypes: float64(23)\n",
      "memory usage: 28.9 KB\n"
     ]
    }
   ],
   "source": [
    "X_resampled.info()"
   ]
  },
  {
   "cell_type": "code",
   "execution_count": 2051,
   "id": "77d70eab",
   "metadata": {},
   "outputs": [],
   "source": [
    "X_resampled = X_resampled.drop(['Jenis_TPA', 'Jenis_Beasiswa', 'Motivasi_Beasiswa'], axis=1)"
   ]
  },
  {
   "cell_type": "code",
   "execution_count": 1965,
   "id": "9359089d",
   "metadata": {},
   "outputs": [
    {
     "name": "stdout",
     "output_type": "stream",
     "text": [
      "<class 'pandas.core.frame.DataFrame'>\n",
      "RangeIndex: 160 entries, 0 to 159\n",
      "Data columns (total 20 columns):\n",
      " #   Column                      Non-Null Count  Dtype  \n",
      "---  ------                      --------------  -----  \n",
      " 0   Bidang_Riset                160 non-null    float64\n",
      " 1   Matematika_Komputasi        160 non-null    float64\n",
      " 2   Jaringan /  Sistem Operasi  160 non-null    float64\n",
      " 3   Basis_Data                  160 non-null    float64\n",
      " 4   Algoritma_dan_Pemrograman   160 non-null    float64\n",
      " 5   Nilai_Akhir_Tes_Bidang      160 non-null    float64\n",
      " 6   Nilai_Setara_IPK            160 non-null    float64\n",
      " 7   3kreditas_Kampus_3sal       160 non-null    float64\n",
      " 8   Motivasi_Studi              160 non-null    float64\n",
      " 9   Pengalaman                  160 non-null    float64\n",
      " 10  Rencana_Riset               160 non-null    float64\n",
      " 11  Komunikasi                  160 non-null    float64\n",
      " 12  Problem_Solving             160 non-null    float64\n",
      " 13  Literature_Review           160 non-null    float64\n",
      " 14  Team_Work                   160 non-null    float64\n",
      " 15  Nilai_Akhir_Interview       160 non-null    float64\n",
      " 16  Jenis_TOEFL                 160 non-null    float64\n",
      " 17  Nilai_TOEFL                 160 non-null    float64\n",
      " 18  Nilai_TPA                   160 non-null    float64\n",
      " 19  Nilai_Total                 160 non-null    float64\n",
      "dtypes: float64(20)\n",
      "memory usage: 25.1 KB\n"
     ]
    }
   ],
   "source": [
    "X_resampled.info()"
   ]
  },
  {
   "cell_type": "code",
   "execution_count": 2052,
   "id": "abb57b3b",
   "metadata": {},
   "outputs": [],
   "source": [
    "import numpy as np\n",
    "from sklearn.datasets import load_iris\n",
    "from sklearn.model_selection import train_test_split\n",
    "import pyswarms as ps\n",
    "\n",
    "X_train, X_test, y_train, y_test = train_test_split(X_resampled, y_resampled, test_size = 0.2, random_state = 42)"
   ]
  },
  {
   "cell_type": "code",
   "execution_count": 1631,
   "id": "36277cef",
   "metadata": {},
   "outputs": [],
   "source": [
    "import math\n",
    "def svc2(x):\n",
    "    if (int(abs(x[0]) < 1)):\n",
    "        boot = False\n",
    "    else:\n",
    "        boot = True\n",
    "        \n",
    "    if (int(abs(x[1]) < 4)):\n",
    "        depth = None\n",
    "    else:\n",
    "        depth = int(abs(x[1]))\n",
    "    \n",
    "    if (int(abs(x[2])) < 2):\n",
    "        features = 'auto' \n",
    "    else:\n",
    "        features = int(abs(x[2]))\n",
    "        \n",
    "    model = RandomForestClassifier(bootstrap= boot,\n",
    "                                   max_depth= depth,\n",
    "                                   max_features= features,\n",
    "                                   min_samples_leaf= int(abs(x[3])),\n",
    "                                   min_samples_split= int(abs(x[4])),\n",
    "                                   n_estimators= int(abs(x[5])))\n",
    "    acc = cross_val_score(clfOurMethod, X_train, y_train, cv=5,scoring='accuracy')\n",
    "    inv_acc = 1/(np.mean(acc))\n",
    "    return inv_acc"
   ]
  },
  {
   "cell_type": "code",
   "execution_count": 1632,
   "id": "1ad1bf0c",
   "metadata": {},
   "outputs": [],
   "source": [
    "def s(x):\n",
    "    n_particles = x.shape[0]\n",
    "    j = [svc2(x[i]) for i in range (n_particles)]\n",
    "    return np.array(j)"
   ]
  },
  {
   "cell_type": "code",
   "execution_count": 1633,
   "id": "7b9a6b66",
   "metadata": {},
   "outputs": [],
   "source": [
    "# Create bounds\n",
    "max_bound = [2, 8, 4, 4, 6, 300]\n",
    "min_bound = [0, 1, 0, 1, 2, 50]\n",
    "bounds = (min_bound, max_bound)"
   ]
  },
  {
   "cell_type": "code",
   "execution_count": 1672,
   "id": "5dcc8899",
   "metadata": {},
   "outputs": [
    {
     "name": "stderr",
     "output_type": "stream",
     "text": [
      "2021-12-11 07:56:26,714 - pyswarms.single.global_best - INFO - Optimize for 20 iters with {'c1': 1.9, 'c2': 1.9, 'w': 0.5}\n",
      "pyswarms.single.global_best: 100%|███████████████████████████████████████████████████████████████|20/20, best_cost=1.24\n",
      "2021-12-11 07:58:11,050 - pyswarms.single.global_best - INFO - Optimization finished | best cost: 1.2433052792654933, best pos: [  1.09934947   6.05988242   3.23215878   3.02569841   2.35675325\n",
      " 127.7098991 ]\n"
     ]
    },
    {
     "name": "stdout",
     "output_type": "stream",
     "text": [
      "--- 104.34849643707275 seconds ---\n"
     ]
    }
   ],
   "source": [
    "import time\n",
    "start_time = time.time()\n",
    "options = {'c1': 1.9, 'c2':1.9, 'w':0.5}\n",
    "\n",
    "dimensions = 6\n",
    "optimizer = ps.single.GlobalBestPSO(n_particles=10, dimensions=dimensions,\n",
    "                                   options=options, bounds=bounds)\n",
    "\n",
    "cost, post = optimizer.optimize(s, iters=20)\n",
    "print(\"--- %s seconds ---\" % (time.time() - start_time))"
   ]
  },
  {
   "cell_type": "code",
   "execution_count": 1673,
   "id": "172b4202",
   "metadata": {},
   "outputs": [
    {
     "name": "stdout",
     "output_type": "stream",
     "text": [
      "0.8043076923076925\n"
     ]
    }
   ],
   "source": [
    "acc_svm = 1/cost\n",
    "print(acc_svm)"
   ]
  },
  {
   "cell_type": "markdown",
   "id": "dd862946",
   "metadata": {},
   "source": [
    "## Random Forest Classifier "
   ]
  },
  {
   "cell_type": "code",
   "execution_count": 244,
   "id": "53a7ea24",
   "metadata": {},
   "outputs": [],
   "source": [
    "X_train, X_test, y_train, y_test = train_test_split(X_resampled, y_resampled, test_size = 0.2)"
   ]
  },
  {
   "cell_type": "code",
   "execution_count": 251,
   "id": "5394cafb",
   "metadata": {},
   "outputs": [
    {
     "name": "stdout",
     "output_type": "stream",
     "text": [
      "Accuracy 0.8125\n"
     ]
    }
   ],
   "source": [
    "# fit the model\n",
    "model = RandomForestClassifier(bootstrap= True,\n",
    "                                   max_depth=  None,\n",
    "                                   max_features=  2,\n",
    "                                   min_samples_leaf= 2,\n",
    "                                   min_samples_split= 5,\n",
    "                                   n_estimators= 162)\n",
    "model.fit(X_train, y_train)\n",
    "# make predictions\n",
    "yPred = model.predict(X_test)\n",
    "# evaluate predictions\n",
    "acc = accuracy_score(y_test, yPred)\n",
    "print('Accuracy', acc)"
   ]
  },
  {
   "cell_type": "code",
   "execution_count": 246,
   "id": "b8690a9d",
   "metadata": {},
   "outputs": [
    {
     "name": "stdout",
     "output_type": "stream",
     "text": [
      "AUC untuk Class 3 (biru)   : 0.8461538461538463\n",
      "AUC untuk Class 4 (hijau)  : 0.9485714285714285\n",
      "AUC untuk Class 5 (merah)  : 0.8961038961038961\n",
      "AUC untuk Class 6 (orange) : 0.9895833333333333\n"
     ]
    },
    {
     "data": {
      "image/png": "[encoded data removed]",
      "text/plain": [
       "<Figure size 432x288 with 1 Axes>"
      ]
     },
     "metadata": {
      "needs_background": "light"
     },
     "output_type": "display_data"
    }
   ],
   "source": [
    "from sklearn import svm, datasets\n",
    "from sklearn.metrics import roc_curve, auc\n",
    "from sklearn.model_selection import train_test_split\n",
    "from sklearn.preprocessing import label_binarize\n",
    "from sklearn.multiclass import OneVsRestClassifier\n",
    "from scipy import interp\n",
    "from sklearn.metrics import roc_auc_score\n",
    "y_score = model.predict_proba(X_test)\n",
    "#Binarize the output\n",
    "y_test_bin = label_binarize(y_test, classes=[3, 4, 5, 6])\n",
    "n_classes = y_test_bin.shape[1]\n",
    "\n",
    "fpr = dict()\n",
    "tpr = dict()\n",
    "roc_auc = dict()\n",
    "\n",
    "for i in range(n_classes):\n",
    "    fpr[i], tpr[i], _ = roc_curve(y_test_bin[:, i], y_score[:, i])\n",
    "    if (i == 0):\n",
    "        warna='blue'\n",
    "        print('AUC untuk Class {} (biru)   : {}'.format(i+3,auc(fpr[i], tpr[i])))\n",
    "    elif(i == 1):\n",
    "        warna= 'green'\n",
    "        print('AUC untuk Class {} (hijau)  : {}'.format(i+3,auc(fpr[i], tpr[i])))\n",
    "    elif(i == 2):\n",
    "        warna= 'red'\n",
    "        print('AUC untuk Class {} (merah)  : {}'.format(i+3,auc(fpr[i], tpr[i])))\n",
    "    else:\n",
    "        warna= 'orange'\n",
    "        print('AUC untuk Class {} (orange) : {}'.format(i+3,auc(fpr[i], tpr[i])))\n",
    "    plt.plot(fpr[i], tpr[i], color=warna, lw=2,  label=\"ROC of class {} (area = %0.2f)\".format(i+3) % auc(fpr[i], tpr[i]))\n",
    "    \n",
    "plt.plot([0, 1], [0, 1], color=\"navy\", lw=2, linestyle=\"--\")\n",
    "plt.xlim([0.0, 1.0])\n",
    "plt.ylim([0.0, 1.05])\n",
    "plt.xlabel(\"False Positive Rate\")\n",
    "plt.ylabel(\"True Positive Rate\")\n",
    "plt.title(\"Receiver operating characteristic\")\n",
    "plt.legend(loc=\"lower right\")\n",
    "plt.show()"
   ]
  },
  {
   "cell_type": "code",
   "execution_count": 182,
   "id": "80a05075",
   "metadata": {},
   "outputs": [
    {
     "data": {
      "text/plain": [
       "array([3, 4, 5, 6], dtype=int64)"
      ]
     },
     "execution_count": 182,
     "metadata": {},
     "output_type": "execute_result"
    }
   ],
   "source": [
    "model.classes_"
   ]
  },
  {
   "cell_type": "code",
   "execution_count": 183,
   "id": "3e66f680",
   "metadata": {},
   "outputs": [
    {
     "name": "stdout",
     "output_type": "stream",
     "text": [
      "(128, 20)\n",
      "(128,)\n",
      "(32, 20)\n",
      "(32,)\n"
     ]
    }
   ],
   "source": [
    "print(X_train.shape)\n",
    "print(y_train.shape)\n",
    "print(X_test.shape)\n",
    "print(y_test.shape)"
   ]
  },
  {
   "cell_type": "code",
   "execution_count": 184,
   "id": "bb2c02b0",
   "metadata": {},
   "outputs": [
    {
     "name": "stdout",
     "output_type": "stream",
     "text": [
      "Accuracy of K-NN classifier on training set: 0.98\n",
      "Accuracy of K-NN classifier on test set: 0.78\n"
     ]
    }
   ],
   "source": [
    "print('Accuracy of K-NN classifier on training set: {:.2f}'\n",
    "     .format(model.score(X_train, y_train)))\n",
    "print('Accuracy of K-NN classifier on test set: {:.2f}'\n",
    "     .format(model.score(X_test, y_test)))"
   ]
  },
  {
   "cell_type": "code",
   "execution_count": 185,
   "id": "32d52e03",
   "metadata": {},
   "outputs": [],
   "source": [
    "cm = confusion_matrix(y_test, yPred, labels=model.classes_)"
   ]
  },
  {
   "cell_type": "code",
   "execution_count": 186,
   "id": "af64df2b",
   "metadata": {},
   "outputs": [
    {
     "data": {
      "image/png": "[encoded data removed]",
      "text/plain": [
       "<Figure size 720x432 with 2 Axes>"
      ]
     },
     "metadata": {
      "needs_background": "light"
     },
     "output_type": "display_data"
    }
   ],
   "source": [
    "#importing packages\n",
    "import pandas as pd\n",
    "import numpy as np\n",
    "import seaborn as sns\n",
    "import matplotlib.pyplot as plt\n",
    "# Creating a dataframe for a array-formatted Confusion matrix,so it will be easy for plotting.\n",
    "cm_df = pd.DataFrame(cm,\n",
    "                     index = model.classes_, \n",
    "                     columns = model.classes_)\n",
    "\n",
    "#Plotting the confusion matrix\n",
    "plt.figure(figsize=(10,6))\n",
    "sns.heatmap(cm_df, annot=True)\n",
    "plt.title('Confusion Matrix')\n",
    "plt.ylabel('Kelas Aktual')\n",
    "plt.xlabel('Kelas Prediksi')\n",
    "plt.show()"
   ]
  },
  {
   "cell_type": "code",
   "execution_count": 187,
   "id": "1944c37e",
   "metadata": {},
   "outputs": [
    {
     "name": "stdout",
     "output_type": "stream",
     "text": [
      "              precision    recall  f1-score   support\n",
      "\n",
      "           3       0.70      0.88      0.78         8\n",
      "           4       1.00      0.71      0.83         7\n",
      "           5       0.86      0.60      0.71        10\n",
      "           6       0.70      1.00      0.82         7\n",
      "\n",
      "    accuracy                           0.78        32\n",
      "   macro avg       0.81      0.80      0.79        32\n",
      "weighted avg       0.81      0.78      0.78        32\n",
      "\n"
     ]
    }
   ],
   "source": [
    "from sklearn.metrics import classification_report\n",
    "target_names = ['3','4','5','6']\n",
    "print(classification_report(y_test, yPred, target_names=target_names))"
   ]
  }
 ],
 "metadata": {
  "kernelspec": {
   "display_name": "Python 3 (ipykernel)",
   "language": "python",
   "name": "python3"
  },
  "language_info": {
   "codemirror_mode": {
    "name": "ipython",
    "version": 3
   },
   "file_extension": ".py",
   "mimetype": "text/x-python",
   "name": "python",
   "nbconvert_exporter": "python",
   "pygments_lexer": "ipython3",
   "version": "3.9.6"
  }
 },
 "nbformat": 4,
 "nbformat_minor": 5
}
