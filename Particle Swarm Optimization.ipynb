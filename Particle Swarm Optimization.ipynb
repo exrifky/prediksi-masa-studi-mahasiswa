{
 "cells": [
  {
   "cell_type": "markdown",
   "id": "7a77b920",
   "metadata": {},
   "source": [
    "## Particle Swarm Optimizaton "
   ]
  },
  {
   "cell_type": "markdown",
   "id": "67904afd",
   "metadata": {},
   "source": [
    "### Terdapat library yang dapat digunakan untuk PSO\n",
    "1. Pyswarm -- https://pyswarms.readthedocs.io/en/latest/index.html\n",
    "2. Optunity -- https://optunity.readthedocs.io/en/latest/index.html\n",
    "\n",
    "Bisa menulis sendiri kode program sebagai berikut"
   ]
  },
  {
   "cell_type": "code",
   "execution_count": 72,
   "id": "8e4eef8d",
   "metadata": {},
   "outputs": [],
   "source": [
    "def pso_opt(function, e= 0.001, lr_reduce = False, minimum = True, l_sol = 0,\n",
    "           u_sol = 10, n_particles = 10, iteration = 10, n_dim = 1,\n",
    "           c1 = 1.5, c2 = 1.5, w = 0.5, l_teta = 0.4, u_teta=0.9,\n",
    "            dif_bound = False, dec_lr = False):\n",
    "    import numpy as np\n",
    "    import random #untuk membuat inisialisasi acak posis dan kecepatan    \n",
    "    \n",
    "    #inisialisasi acak posisi dan kecepatan\n",
    "    particles_pos = np.zeros((n_particles, n_dim))\n",
    "    particles_vel = np.zeros((n_particles, n_dim))\n",
    "    if dif_bound:\n",
    "        l_sol = []\n",
    "        u_sol = []\n",
    "        for i in range (n_dim):\n",
    "            print('masukkan nilai batas bawah solusi dimensi ke-', i+1)\n",
    "            x = input()\n",
    "            x = float(x)\n",
    "            l_sol.append(x)\n",
    "            print('masukkan nilai batas atas solusi dimensi ke-', i+1)\n",
    "            y = input()\n",
    "            y = float(y)\n",
    "            u_sol.append(y)\n",
    "            for j in range (n_particles):\n",
    "                particles_pos[j][i] = random.uniform(x,y)\n",
    "                particles_vel[j][i] = random.uniform(-abs(y-x), abs(y-x))\n",
    "    \n",
    "    else:\n",
    "        for i in range(n_dim):\n",
    "            for j in range(n_particles):\n",
    "                particles_pos[j][i] = random.uniform(l_sol, u_sol)\n",
    "                particles_vel[j][i] = random.uniform(-abs(u_sol-l_sol), abs(u_sol-l_sol))\n",
    "                \n",
    "    #Menentukan Local Best dan Global Best awal\n",
    "    #Local Best\n",
    "    local_value = []\n",
    "    local_best = []\n",
    "    for i in particles_pos:\n",
    "            value = function(i)\n",
    "            local_value.append(value)\n",
    "            local_best.append(i)\n",
    "    #Global Best\n",
    "    best_value = max(local_value)\n",
    "    global_best = local_best[local_value.index(max(local_value))]\n",
    "    \n",
    "    #update kecepatan dan posisi partikel\n",
    "    it = 0\n",
    "    stop = False\n",
    "    while (it < iteration):\n",
    "        if stop:\n",
    "            break\n",
    "        else:\n",
    "            #menerapakan nilai inertia (linear decreasing, Xin et al, 2009). Jaga-jaga saja\n",
    "            if lr_reduce:\n",
    "                w = u_teta - ((u_teta - l_teta)/iteration)*(it+1)\n",
    "            for i in range(len(particles_pos)):\n",
    "                new_particles_pos = np.zeros((1, n_dim))[0]\n",
    "                for j in range(len(particles_pos[i])):\n",
    "                    r1 = random.uniform(0, 1)\n",
    "                    r2 = random.uniform(0, 1)\n",
    "                    v_new = w*particles_vel[i][j] + c1*r1*(local_best[i][j] - particles_pos[i][j])+c2*r2*(global_best - particles_pos[i][j])\n",
    "                    p_new = v_new + particles_pos[i][j]\n",
    "                    new_particles_pos[j] = p_new[0]\n",
    "                    particles_vel[i][j] = v_new[0]\n",
    "            #update Local best\n",
    "            if minimum:\n",
    "                if function(new_particles_pos) < function(local_best[i]):\n",
    "                    local_best[i] = new_particles_pos\n",
    "                    local_value[i] = function(new_particles_pos)\n",
    "            else:\n",
    "                if function(new_particles_pos) > function(local_best[i]):\n",
    "                    local_best[i] = new_particles_pos\n",
    "                    local_value[i] = function(new_particles_pos)\n",
    "            \n",
    "            #update global best\n",
    "            if minimum:\n",
    "                best_value = min(local_value)\n",
    "                global_best = local_best[local_value.index(min(local_value))]\n",
    "            else:\n",
    "                best_value = max(local_value)\n",
    "                global_best = local_best[local_value.index(max(local_value))]\n",
    "            \n",
    "        if best_value < e:\n",
    "            stop = True\n",
    "        it += 1\n",
    "    return global_best, best_value"
   ]
  },
  {
   "cell_type": "code",
   "execution_count": 73,
   "id": "183ebc09",
   "metadata": {},
   "outputs": [],
   "source": [
    "import numpy as np\n",
    "from sklearn.datasets import load_iris\n",
    "from sklearn.model_selection import train_test_split\n",
    "from sklearn.ensemble import RandomForestClassifier\n",
    "from sklearn.svm import SVC\n",
    "import pandas as pd"
   ]
  },
  {
   "cell_type": "code",
   "execution_count": 74,
   "id": "fafa536f",
   "metadata": {},
   "outputs": [],
   "source": [
    "data = pd.read_csv('fix 4.csv')"
   ]
  },
  {
   "cell_type": "code",
   "execution_count": 75,
   "id": "1a5867d7",
   "metadata": {},
   "outputs": [],
   "source": [
    "X = data.drop('Lama_Kuliah', axis=1)\n",
    "y = data['Lama_Kuliah']"
   ]
  },
  {
   "cell_type": "code",
   "execution_count": 76,
   "id": "38eb9557",
   "metadata": {},
   "outputs": [],
   "source": [
    "from imblearn.over_sampling import SMOTE, ADASYN,BorderlineSMOTE\n",
    "X_resampled, y_resampled = SMOTE().fit_resample(X, y)"
   ]
  },
  {
   "cell_type": "code",
   "execution_count": 77,
   "id": "7d73db67",
   "metadata": {},
   "outputs": [],
   "source": [
    "X_resampled = X_resampled.drop(['Jenis_TPA', 'Jenis_Beasiswa', 'Motivasi_Beasiswa'], axis=1)"
   ]
  },
  {
   "cell_type": "code",
   "execution_count": 78,
   "id": "3887b2bf",
   "metadata": {},
   "outputs": [],
   "source": [
    "X_train, X_test, y_train, y_test = train_test_split(X_resampled, y_resampled, test_size = 0.2)"
   ]
  },
  {
   "cell_type": "code",
   "execution_count": 79,
   "id": "ef002d45",
   "metadata": {},
   "outputs": [],
   "source": [
    "def svc(x):\n",
    "    if (int(abs(x[0]) < 1)):\n",
    "        boot = False\n",
    "    else:\n",
    "        boot = True\n",
    "        \n",
    "    if (int(abs(x[1]) < 4)):\n",
    "        depth = None\n",
    "    else:\n",
    "        depth = int(abs(x[1]))\n",
    "    \n",
    "    if (int(abs(x[2])) < 2):\n",
    "        features = 'auto' \n",
    "    else:\n",
    "        features = int(abs(x[2]))\n",
    "    \n",
    "    if (int(abs(x[3])) < 1):\n",
    "        leaf = 1 \n",
    "    else:\n",
    "        leaf = int(abs(x[3]))\n",
    "    \n",
    "    if (int(abs(x[4])) < 2):\n",
    "        split = 2\n",
    "    else:\n",
    "        split = int(abs(x[4]))\n",
    "        \n",
    "    model = RandomForestClassifier(bootstrap= boot,\n",
    "                                   max_depth= depth,\n",
    "                                   max_features= features,\n",
    "                                   min_samples_leaf= leaf,\n",
    "                                   min_samples_split= split,\n",
    "                                   n_estimators= int(abs(x[5])))\n",
    "    model.fit(X_train, y_train)\n",
    "    acc = (model.predict(X_test)== y_test).mean()\n",
    "    return acc"
   ]
  },
  {
   "cell_type": "code",
   "execution_count": 80,
   "id": "55f4d5a4",
   "metadata": {},
   "outputs": [
    {
     "name": "stdout",
     "output_type": "stream",
     "text": [
      "masukkan nilai batas bawah solusi dimensi ke- 1\n",
      "0\n",
      "masukkan nilai batas atas solusi dimensi ke- 1\n",
      "2\n",
      "masukkan nilai batas bawah solusi dimensi ke- 2\n",
      "1\n",
      "masukkan nilai batas atas solusi dimensi ke- 2\n",
      "8\n",
      "masukkan nilai batas bawah solusi dimensi ke- 3\n",
      "0\n",
      "masukkan nilai batas atas solusi dimensi ke- 3\n",
      "4\n",
      "masukkan nilai batas bawah solusi dimensi ke- 4\n",
      "1\n",
      "masukkan nilai batas atas solusi dimensi ke- 4\n",
      "4\n",
      "masukkan nilai batas bawah solusi dimensi ke- 5\n",
      "2\n",
      "masukkan nilai batas atas solusi dimensi ke- 5\n",
      "6\n",
      "masukkan nilai batas bawah solusi dimensi ke- 6\n",
      "50\n",
      "masukkan nilai batas atas solusi dimensi ke- 6\n",
      "300\n"
     ]
    },
    {
     "data": {
      "text/plain": [
       "(array([ 0.67005449,  2.11125325,  1.50591858,  3.18509461,  5.4477398 ,\n",
       "        89.58306194]),\n",
       " 0.84375)"
      ]
     },
     "execution_count": 80,
     "metadata": {},
     "output_type": "execute_result"
    }
   ],
   "source": [
    "pso_opt(svc, n_dim=6, dif_bound = True, minimum=False, lr_reduce = True)"
   ]
  },
  {
   "cell_type": "code",
   "execution_count": null,
   "id": "2ae6530c",
   "metadata": {},
   "outputs": [],
   "source": []
  }
 ],
 "metadata": {
  "kernelspec": {
   "display_name": "Python 3 (ipykernel)",
   "language": "python",
   "name": "python3"
  },
  "language_info": {
   "codemirror_mode": {
    "name": "ipython",
    "version": 3
   },
   "file_extension": ".py",
   "mimetype": "text/x-python",
   "name": "python",
   "nbconvert_exporter": "python",
   "pygments_lexer": "ipython3",
   "version": "3.9.6"
  }
 },
 "nbformat": 4,
 "nbformat_minor": 5
}
